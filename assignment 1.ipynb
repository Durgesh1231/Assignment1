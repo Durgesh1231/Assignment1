{
 "cells": [
  {
   "cell_type": "markdown",
   "id": "1d931899-4ad7-4a39-aad5-8f23fba5283c",
   "metadata": {},
   "source": [
    "Q.1\n",
    " (i)    a=\"RamChandra\"\n",
    "(ii)   a=[1,2,3,'Ram']\n",
    "(iii)  a=1.732\n",
    "(iv)  a=(1,2,3,'Ram')\n",
    "\n",
    "\n",
    "Q.2\n",
    "(i)    String\n",
    "(ii)   String\n",
    "(iii)  list\n",
    "(iv)   int\n",
    "\n",
    "Q.3\n",
    "(i)   / arithmetic operator eg.6/3=2\n",
    "(ii)  % modulus operator to find the reminder  6%4=2\n",
    "(iii) // floar operator to find the reminder  6%4=2\n",
    "(iv)  ** expotential operator to find the power 2**3=8\n",
    "\n",
    "Q.4\n",
    "a=[1,2,3,'ram',2.2,3+4j,(1,2,3),{1,2,3},True,{'ram','raj'}]\n",
    "\n",
    "for i in a :\n",
    "    print(type(i))\n",
    "\n",
    "Q.5\n",
    "a=int(input())\n",
    "b=int(input())\n",
    "if a%b==0:\n",
    "    print(\"divisible by b\")\n",
    "else:\n",
    "     print(\"not divisible by b\")\n",
    "    \n",
    "Q.6\n",
    "a=[1,2,3,4,5,6,7,8,9,10,11,12,13,14,15,16,17,18,19,20,21,22,23,24,25]\n",
    " \n",
    "    for i in a :\n",
    "             if i%3==0:\n",
    "                     print(i)\n",
    "                     print(\"divisible by 3\")\n",
    "             else:\n",
    "                  print(i)\n",
    "                  print(\"not divisible by 3\")\n",
    "                  \n",
    "Q.7\n",
    "mutable-when we change the value direct through their index no. is known as mutable. example-list\n",
    "   a=[1,2,3,4] if we change in place of 2 to 5 then\n",
    "   a[1]=5\n",
    "immutable- we can't change the value direct through their index no. is known as immutable. example-String\n",
    "    a=\"RamChandra\" if we change in place of m to M\n",
    "    a[2]=M it show error"
   ]
  }
 ],
 "metadata": {
  "kernelspec": {
   "display_name": "Python 3 (ipykernel)",
   "language": "python",
   "name": "python3"
  },
  "language_info": {
   "codemirror_mode": {
    "name": "ipython",
    "version": 3
   },
   "file_extension": ".py",
   "mimetype": "text/x-python",
   "name": "python",
   "nbconvert_exporter": "python",
   "pygments_lexer": "ipython3",
   "version": "3.10.8"
  }
 },
 "nbformat": 4,
 "nbformat_minor": 5
}
